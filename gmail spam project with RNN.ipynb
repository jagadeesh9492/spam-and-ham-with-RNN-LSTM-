{
 "cells": [
  {
   "cell_type": "markdown",
   "id": "a474bff5",
   "metadata": {},
   "source": [
    "Developing an NLP and ML project\n",
    "\n",
    "   collecting data\n",
    "    uderstanding problem\n",
    "    since it is texxt we need to follow nlp pipeline\n",
    "    develope ml model\n",
    "    testing model \n",
    "    save model \n",
    "    load the model and test once\n",
    "    Deploy in any cloud[AWS, IBM, Google cloud,MIcrosoft Azure,Heroku]"
   ]
  },
  {
   "cell_type": "code",
   "execution_count": 1,
   "id": "f6d73ac8",
   "metadata": {},
   "outputs": [],
   "source": [
    "import numpy as np\n",
    "import pandas as pd"
   ]
  },
  {
   "cell_type": "code",
   "execution_count": 2,
   "id": "7106dc58",
   "metadata": {},
   "outputs": [],
   "source": [
    "#load the data set and check whether important points are available or not"
   ]
  },
  {
   "cell_type": "code",
   "execution_count": 173,
   "id": "1deb0119",
   "metadata": {},
   "outputs": [],
   "source": [
    "#as above while loading we can notice error for that type of data sets we will have file extensions\n",
    "\n"
   ]
  },
  {
   "cell_type": "code",
   "execution_count": 5,
   "id": "6d62868f",
   "metadata": {},
   "outputs": [],
   "source": [
    "data=pd.read_csv('E:\\\\nlp data sets\\\\spam.csv',encoding='ISO-8859-1')"
   ]
  },
  {
   "cell_type": "code",
   "execution_count": 6,
   "id": "87cc0a02",
   "metadata": {},
   "outputs": [
    {
     "data": {
      "text/html": [
       "<div>\n",
       "<style scoped>\n",
       "    .dataframe tbody tr th:only-of-type {\n",
       "        vertical-align: middle;\n",
       "    }\n",
       "\n",
       "    .dataframe tbody tr th {\n",
       "        vertical-align: top;\n",
       "    }\n",
       "\n",
       "    .dataframe thead th {\n",
       "        text-align: right;\n",
       "    }\n",
       "</style>\n",
       "<table border=\"1\" class=\"dataframe\">\n",
       "  <thead>\n",
       "    <tr style=\"text-align: right;\">\n",
       "      <th></th>\n",
       "      <th>v1</th>\n",
       "      <th>v2</th>\n",
       "      <th>Unnamed: 2</th>\n",
       "      <th>Unnamed: 3</th>\n",
       "      <th>Unnamed: 4</th>\n",
       "    </tr>\n",
       "  </thead>\n",
       "  <tbody>\n",
       "    <tr>\n",
       "      <th>0</th>\n",
       "      <td>ham</td>\n",
       "      <td>Go until jurong point, crazy.. Available only ...</td>\n",
       "      <td>NaN</td>\n",
       "      <td>NaN</td>\n",
       "      <td>NaN</td>\n",
       "    </tr>\n",
       "    <tr>\n",
       "      <th>1</th>\n",
       "      <td>ham</td>\n",
       "      <td>Ok lar... Joking wif u oni...</td>\n",
       "      <td>NaN</td>\n",
       "      <td>NaN</td>\n",
       "      <td>NaN</td>\n",
       "    </tr>\n",
       "    <tr>\n",
       "      <th>2</th>\n",
       "      <td>spam</td>\n",
       "      <td>Free entry in 2 a wkly comp to win FA Cup fina...</td>\n",
       "      <td>NaN</td>\n",
       "      <td>NaN</td>\n",
       "      <td>NaN</td>\n",
       "    </tr>\n",
       "    <tr>\n",
       "      <th>3</th>\n",
       "      <td>ham</td>\n",
       "      <td>U dun say so early hor... U c already then say...</td>\n",
       "      <td>NaN</td>\n",
       "      <td>NaN</td>\n",
       "      <td>NaN</td>\n",
       "    </tr>\n",
       "    <tr>\n",
       "      <th>4</th>\n",
       "      <td>ham</td>\n",
       "      <td>Nah I don't think he goes to usf, he lives aro...</td>\n",
       "      <td>NaN</td>\n",
       "      <td>NaN</td>\n",
       "      <td>NaN</td>\n",
       "    </tr>\n",
       "  </tbody>\n",
       "</table>\n",
       "</div>"
      ],
      "text/plain": [
       "     v1                                                 v2 Unnamed: 2  \\\n",
       "0   ham  Go until jurong point, crazy.. Available only ...        NaN   \n",
       "1   ham                      Ok lar... Joking wif u oni...        NaN   \n",
       "2  spam  Free entry in 2 a wkly comp to win FA Cup fina...        NaN   \n",
       "3   ham  U dun say so early hor... U c already then say...        NaN   \n",
       "4   ham  Nah I don't think he goes to usf, he lives aro...        NaN   \n",
       "\n",
       "  Unnamed: 3 Unnamed: 4  \n",
       "0        NaN        NaN  \n",
       "1        NaN        NaN  \n",
       "2        NaN        NaN  \n",
       "3        NaN        NaN  \n",
       "4        NaN        NaN  "
      ]
     },
     "execution_count": 6,
     "metadata": {},
     "output_type": "execute_result"
    }
   ],
   "source": [
    "data.head()"
   ]
  },
  {
   "cell_type": "code",
   "execution_count": 7,
   "id": "90a83b64",
   "metadata": {},
   "outputs": [
    {
     "data": {
      "text/plain": [
       "(5572, 5)"
      ]
     },
     "execution_count": 7,
     "metadata": {},
     "output_type": "execute_result"
    }
   ],
   "source": [
    "data.shape"
   ]
  },
  {
   "cell_type": "markdown",
   "id": "7d14ee82",
   "metadata": {},
   "source": [
    "#since feature(column) 3,4,5 havaing lot of null values"
   ]
  },
  {
   "cell_type": "code",
   "execution_count": 8,
   "id": "531cef33",
   "metadata": {},
   "outputs": [
    {
     "data": {
      "text/plain": [
       "v1               0\n",
       "v2               0\n",
       "Unnamed: 2    5522\n",
       "Unnamed: 3    5560\n",
       "Unnamed: 4    5566\n",
       "dtype: int64"
      ]
     },
     "execution_count": 8,
     "metadata": {},
     "output_type": "execute_result"
    }
   ],
   "source": [
    "data.isnull().sum()"
   ]
  },
  {
   "cell_type": "code",
   "execution_count": 9,
   "id": "4e420c83",
   "metadata": {},
   "outputs": [
    {
     "data": {
      "text/plain": [
       "5522"
      ]
     },
     "execution_count": 9,
     "metadata": {},
     "output_type": "execute_result"
    }
   ],
   "source": [
    "data['Unnamed: 2'].isnull().sum()"
   ]
  },
  {
   "cell_type": "code",
   "execution_count": 10,
   "id": "089b5343",
   "metadata": {},
   "outputs": [
    {
     "name": "stdout",
     "output_type": "stream",
     "text": [
      "unique in column Unnamed: 2 is: [nan ' PO Box 5249'\n",
      " ' the person is definitely special for u..... But if the person is so special'\n",
      " ' HOWU DOIN? FOUNDURSELF A JOBYET SAUSAGE?LOVE JEN XXX\\\\\"\"'\n",
      " ' wanted to say hi. HI!!!\\\\\" Stop? Send STOP to 62468\"'\n",
      " 'this wont even start........ Datz confidence..\"' 'GN' '.;-):-D\"'\n",
      " 'just been in bedbut mite go 2 thepub l8tr if uwana mt up?loads a luv Jenxxx.\\\\\"\"'\n",
      " ' bt not his girlfrnd... G o o d n i g h t . . .@\"' ' I\\'ll come up\"'\n",
      " ' don\\'t miss ur best life for anything... Gud nyt...\"'\n",
      " ' just as a shop has to give a guarantee on what they sell. B. G.\"'\n",
      " ' But at d end my love compromised me for everything:-(\\\\\".. Gud mornin:-)\"'\n",
      " ' the toughest is acting Happy with all unspoken pain inside..\\\\\"\"'\n",
      " ' smoke hella weed\\\\\"\"' '\\\\\" not \\\\\"what i need to do.\\\\\"\"'\n",
      " 'JUST GOT PAYED2DAY & I HAVBEEN GIVEN Aå£50 PAY RISE 4MY WORK & HAVEBEEN MADE PRESCHOOLCO-ORDINATOR 2I AM FEELINGOOD LUV\\\\\"\"'\n",
      " ' justthought iåÕd sayhey! how u doin?nearly the endof me wk offdam nevamind!We will have 2Hook up sn if uwant m8? loveJen x.\\\\\"\"'\n",
      " 'JUST REALLYNEED 2DOCD.PLEASE DONTPLEASE DONTIGNORE MYCALLS'\n",
      " 'u hav2hear it!c u sn xxxx\\\\\"\"' \" I don't mind\"\n",
      " ' Dont Come Near My Body..!! Bcoz My Hands May Not Come 2 Wipe Ur Tears Off That Time..!Gud ni8\"'\n",
      " \"Well there's still a bit left if you guys want to tonight\"\n",
      " ' but dont try to prove\\\\\" ..... Gud mrng...\"'\n",
      " ' SHE SHUDVETOLD U. DID URGRAN KNOW?NEWAY'\n",
      " ' but watever u shared should be true\\\\\"....\"'\n",
      " ' like you are the KING\\\\\"...! OR \\\\\"Walk like you Dont care'\n",
      " ' HAD A COOL NYTHO' ' PO Box 1146 MK45 2WT (2/3)\"'\n",
      " ' \\\\\"It is d wonderful fruit that a tree gives when it is being hurt by a stone.. Good night......\"'\n",
      " ' we made you hold all the weed\\\\\"\"'\n",
      " ' but dont try to prove it..\\\\\" .Gud noon....\"'\n",
      " ' its a miracle to Love a person who can\\'t Love anyone except U...\\\\\" Gud nyt...\"'\n",
      " ' Gud night....\"' ' that\\'s the tiny street where the parking lot is\"'\n",
      " 'PROBPOP IN & CU SATTHEN HUNNY 4BREKKIE! LOVE JEN XXX. PSXTRA LRG PORTIONS 4 ME PLEASE \\\\\"\"'\n",
      " ' hopeSo hunny. i amnow feelin ill & ithink i may have tonsolitusaswell! damn iam layin in bedreal bored. lotsof luv me xxxx\\\\\"\"'\n",
      " ' GOD said'\n",
      " ' always give response 2 who cares 4 U\\\\\"... Gud night..swt dreams..take care\"'\n",
      " ' HOPE UR OK... WILL GIVE U A BUZ WEDLUNCH. GO OUTSOMEWHERE 4 ADRINK IN TOWN..CUD GO 2WATERSHD 4 A BIT? PPL FROMWRK WILL BTHERE. LOVE PETEXXX.\\\\\"\"'\n",
      " ' b\\'coz nobody will fight for u. Only u &amp; u have to fight for ur self &amp; win the battle. -VIVEKANAND- G 9t.. SD..\"'\n",
      " 'DEVIOUSBITCH.ANYWAY'\n",
      " ' ENJOYIN INDIANS AT THE MO..yeP. SaLL gOoD HehE ;> hows bout u shexy? Pete Xx\\\\\"\"']\n",
      "unique in column Unnamed: 3 is: [nan ' MK17 92H. 450Ppw 16\"' ' why to miss them' 'GE'\n",
      " 'U NO THECD ISV.IMPORTANT TOME 4 2MORO\\\\\"\"'\n",
      " 'i wil tolerat.bcs ur my someone..... But'\n",
      " ' ILLSPEAK 2 U2MORO WEN IM NOT ASLEEP...\\\\\"\"'\n",
      " 'whoever is the KING\\\\\"!... Gud nyt\"' ' TX 4 FONIN HON'\n",
      " ' \\\\\"OH No! COMPETITION\\\\\". Who knew' 'IåÕL CALL U\\\\\"\"']\n",
      "unique in column Unnamed: 4 is: [nan ' just Keep-in-touch\\\\\" gdeve..\"' 'GNT:-)\"'\n",
      " ' Never comfort me with a lie\\\\\" gud ni8 and sweet dreams\"'\n",
      " ' CALL 2MWEN IM BK FRMCLOUD 9! J X\\\\\"\"'\n",
      " ' one day these two will become FREINDS FOREVER!\"']\n",
      "Unnamed: 4\n"
     ]
    }
   ],
   "source": [
    "#checking unique things in columns\n",
    "for i in data.columns[2:]:\n",
    "    print('unique in column', i ,'is:' , data[i].unique())\n",
    "print(i)"
   ]
  },
  {
   "cell_type": "code",
   "execution_count": 11,
   "id": "823d8524",
   "metadata": {},
   "outputs": [
    {
     "data": {
      "text/plain": [
       "Index(['Unnamed: 2', 'Unnamed: 3', 'Unnamed: 4'], dtype='object')"
      ]
     },
     "execution_count": 11,
     "metadata": {},
     "output_type": "execute_result"
    }
   ],
   "source": [
    "data1=data.columns[2:]\n",
    "data1"
   ]
  },
  {
   "cell_type": "code",
   "execution_count": 12,
   "id": "697e8665",
   "metadata": {},
   "outputs": [],
   "source": [
    "# as abov we dont have any uesful thing i am removing that\n",
    "\n",
    "for i in data.columns[2:]:\n",
    "    data=data.drop(i,axis=1)"
   ]
  },
  {
   "cell_type": "code",
   "execution_count": 13,
   "id": "cb1a786f",
   "metadata": {},
   "outputs": [
    {
     "data": {
      "text/html": [
       "<div>\n",
       "<style scoped>\n",
       "    .dataframe tbody tr th:only-of-type {\n",
       "        vertical-align: middle;\n",
       "    }\n",
       "\n",
       "    .dataframe tbody tr th {\n",
       "        vertical-align: top;\n",
       "    }\n",
       "\n",
       "    .dataframe thead th {\n",
       "        text-align: right;\n",
       "    }\n",
       "</style>\n",
       "<table border=\"1\" class=\"dataframe\">\n",
       "  <thead>\n",
       "    <tr style=\"text-align: right;\">\n",
       "      <th></th>\n",
       "      <th>v1</th>\n",
       "      <th>v2</th>\n",
       "    </tr>\n",
       "  </thead>\n",
       "  <tbody>\n",
       "    <tr>\n",
       "      <th>0</th>\n",
       "      <td>ham</td>\n",
       "      <td>Go until jurong point, crazy.. Available only ...</td>\n",
       "    </tr>\n",
       "    <tr>\n",
       "      <th>1</th>\n",
       "      <td>ham</td>\n",
       "      <td>Ok lar... Joking wif u oni...</td>\n",
       "    </tr>\n",
       "    <tr>\n",
       "      <th>2</th>\n",
       "      <td>spam</td>\n",
       "      <td>Free entry in 2 a wkly comp to win FA Cup fina...</td>\n",
       "    </tr>\n",
       "    <tr>\n",
       "      <th>3</th>\n",
       "      <td>ham</td>\n",
       "      <td>U dun say so early hor... U c already then say...</td>\n",
       "    </tr>\n",
       "    <tr>\n",
       "      <th>4</th>\n",
       "      <td>ham</td>\n",
       "      <td>Nah I don't think he goes to usf, he lives aro...</td>\n",
       "    </tr>\n",
       "  </tbody>\n",
       "</table>\n",
       "</div>"
      ],
      "text/plain": [
       "     v1                                                 v2\n",
       "0   ham  Go until jurong point, crazy.. Available only ...\n",
       "1   ham                      Ok lar... Joking wif u oni...\n",
       "2  spam  Free entry in 2 a wkly comp to win FA Cup fina...\n",
       "3   ham  U dun say so early hor... U c already then say...\n",
       "4   ham  Nah I don't think he goes to usf, he lives aro..."
      ]
     },
     "execution_count": 13,
     "metadata": {},
     "output_type": "execute_result"
    }
   ],
   "source": [
    "data.head()"
   ]
  },
  {
   "cell_type": "code",
   "execution_count": 14,
   "id": "f607d61e",
   "metadata": {},
   "outputs": [],
   "source": [
    "# changing column names\n",
    "data=data.rename({'v1':'target','v2':'Emails'},axis=1)"
   ]
  },
  {
   "cell_type": "code",
   "execution_count": 15,
   "id": "27ee7026",
   "metadata": {},
   "outputs": [
    {
     "data": {
      "text/html": [
       "<div>\n",
       "<style scoped>\n",
       "    .dataframe tbody tr th:only-of-type {\n",
       "        vertical-align: middle;\n",
       "    }\n",
       "\n",
       "    .dataframe tbody tr th {\n",
       "        vertical-align: top;\n",
       "    }\n",
       "\n",
       "    .dataframe thead th {\n",
       "        text-align: right;\n",
       "    }\n",
       "</style>\n",
       "<table border=\"1\" class=\"dataframe\">\n",
       "  <thead>\n",
       "    <tr style=\"text-align: right;\">\n",
       "      <th></th>\n",
       "      <th>target</th>\n",
       "      <th>Emails</th>\n",
       "    </tr>\n",
       "  </thead>\n",
       "  <tbody>\n",
       "    <tr>\n",
       "      <th>0</th>\n",
       "      <td>ham</td>\n",
       "      <td>Go until jurong point, crazy.. Available only ...</td>\n",
       "    </tr>\n",
       "    <tr>\n",
       "      <th>1</th>\n",
       "      <td>ham</td>\n",
       "      <td>Ok lar... Joking wif u oni...</td>\n",
       "    </tr>\n",
       "    <tr>\n",
       "      <th>2</th>\n",
       "      <td>spam</td>\n",
       "      <td>Free entry in 2 a wkly comp to win FA Cup fina...</td>\n",
       "    </tr>\n",
       "    <tr>\n",
       "      <th>3</th>\n",
       "      <td>ham</td>\n",
       "      <td>U dun say so early hor... U c already then say...</td>\n",
       "    </tr>\n",
       "    <tr>\n",
       "      <th>4</th>\n",
       "      <td>ham</td>\n",
       "      <td>Nah I don't think he goes to usf, he lives aro...</td>\n",
       "    </tr>\n",
       "  </tbody>\n",
       "</table>\n",
       "</div>"
      ],
      "text/plain": [
       "  target                                             Emails\n",
       "0    ham  Go until jurong point, crazy.. Available only ...\n",
       "1    ham                      Ok lar... Joking wif u oni...\n",
       "2   spam  Free entry in 2 a wkly comp to win FA Cup fina...\n",
       "3    ham  U dun say so early hor... U c already then say...\n",
       "4    ham  Nah I don't think he goes to usf, he lives aro..."
      ]
     },
     "execution_count": 15,
     "metadata": {},
     "output_type": "execute_result"
    }
   ],
   "source": [
    "data.head()"
   ]
  },
  {
   "cell_type": "code",
   "execution_count": 16,
   "id": "acd23857",
   "metadata": {},
   "outputs": [],
   "source": [
    "#let me find whethere data is balanced or not means both ham and spam in target are of equal or not"
   ]
  },
  {
   "cell_type": "code",
   "execution_count": 17,
   "id": "5fa278d0",
   "metadata": {},
   "outputs": [],
   "source": [
    "#counting number of words in raw data"
   ]
  },
  {
   "cell_type": "code",
   "execution_count": 28,
   "id": "3bb6f96d",
   "metadata": {},
   "outputs": [],
   "source": [
    "data['word count']= data['Emails'].apply(lambda x : len(x.split()))"
   ]
  },
  {
   "cell_type": "code",
   "execution_count": 29,
   "id": "447e39e4",
   "metadata": {},
   "outputs": [
    {
     "data": {
      "text/html": [
       "<div>\n",
       "<style scoped>\n",
       "    .dataframe tbody tr th:only-of-type {\n",
       "        vertical-align: middle;\n",
       "    }\n",
       "\n",
       "    .dataframe tbody tr th {\n",
       "        vertical-align: top;\n",
       "    }\n",
       "\n",
       "    .dataframe thead th {\n",
       "        text-align: right;\n",
       "    }\n",
       "</style>\n",
       "<table border=\"1\" class=\"dataframe\">\n",
       "  <thead>\n",
       "    <tr style=\"text-align: right;\">\n",
       "      <th></th>\n",
       "      <th>target</th>\n",
       "      <th>Emails</th>\n",
       "      <th>word count</th>\n",
       "      <th>char count</th>\n",
       "    </tr>\n",
       "  </thead>\n",
       "  <tbody>\n",
       "    <tr>\n",
       "      <th>0</th>\n",
       "      <td>ham</td>\n",
       "      <td>Go until jurong point, crazy.. Available only ...</td>\n",
       "      <td>20</td>\n",
       "      <td>111</td>\n",
       "    </tr>\n",
       "    <tr>\n",
       "      <th>1</th>\n",
       "      <td>ham</td>\n",
       "      <td>Ok lar... Joking wif u oni...</td>\n",
       "      <td>6</td>\n",
       "      <td>29</td>\n",
       "    </tr>\n",
       "    <tr>\n",
       "      <th>2</th>\n",
       "      <td>spam</td>\n",
       "      <td>Free entry in 2 a wkly comp to win FA Cup fina...</td>\n",
       "      <td>28</td>\n",
       "      <td>155</td>\n",
       "    </tr>\n",
       "    <tr>\n",
       "      <th>3</th>\n",
       "      <td>ham</td>\n",
       "      <td>U dun say so early hor... U c already then say...</td>\n",
       "      <td>11</td>\n",
       "      <td>49</td>\n",
       "    </tr>\n",
       "    <tr>\n",
       "      <th>4</th>\n",
       "      <td>ham</td>\n",
       "      <td>Nah I don't think he goes to usf, he lives aro...</td>\n",
       "      <td>13</td>\n",
       "      <td>61</td>\n",
       "    </tr>\n",
       "  </tbody>\n",
       "</table>\n",
       "</div>"
      ],
      "text/plain": [
       "  target                                             Emails  word count  \\\n",
       "0    ham  Go until jurong point, crazy.. Available only ...          20   \n",
       "1    ham                      Ok lar... Joking wif u oni...           6   \n",
       "2   spam  Free entry in 2 a wkly comp to win FA Cup fina...          28   \n",
       "3    ham  U dun say so early hor... U c already then say...          11   \n",
       "4    ham  Nah I don't think he goes to usf, he lives aro...          13   \n",
       "\n",
       "   char count  \n",
       "0         111  \n",
       "1          29  \n",
       "2         155  \n",
       "3          49  \n",
       "4          61  "
      ]
     },
     "execution_count": 29,
     "metadata": {},
     "output_type": "execute_result"
    }
   ],
   "source": [
    "data.head()"
   ]
  },
  {
   "cell_type": "code",
   "execution_count": 30,
   "id": "b303d3c3",
   "metadata": {},
   "outputs": [],
   "source": [
    "# character count"
   ]
  },
  {
   "cell_type": "code",
   "execution_count": 31,
   "id": "4ecfd649",
   "metadata": {},
   "outputs": [],
   "source": [
    "def count(text):\n",
    "    count=0\n",
    "    c=''\n",
    "    for i in text:\n",
    "        c+=i\n",
    "        count+=1\n",
    "    return count\n"
   ]
  },
  {
   "cell_type": "code",
   "execution_count": 32,
   "id": "ad9a93fa",
   "metadata": {},
   "outputs": [],
   "source": [
    "data['char count']= data['Emails'].apply(lambda x : count(x))"
   ]
  },
  {
   "cell_type": "code",
   "execution_count": 33,
   "id": "45a2d518",
   "metadata": {},
   "outputs": [
    {
     "data": {
      "text/html": [
       "<div>\n",
       "<style scoped>\n",
       "    .dataframe tbody tr th:only-of-type {\n",
       "        vertical-align: middle;\n",
       "    }\n",
       "\n",
       "    .dataframe tbody tr th {\n",
       "        vertical-align: top;\n",
       "    }\n",
       "\n",
       "    .dataframe thead th {\n",
       "        text-align: right;\n",
       "    }\n",
       "</style>\n",
       "<table border=\"1\" class=\"dataframe\">\n",
       "  <thead>\n",
       "    <tr style=\"text-align: right;\">\n",
       "      <th></th>\n",
       "      <th>target</th>\n",
       "      <th>Emails</th>\n",
       "      <th>word count</th>\n",
       "      <th>char count</th>\n",
       "    </tr>\n",
       "  </thead>\n",
       "  <tbody>\n",
       "    <tr>\n",
       "      <th>0</th>\n",
       "      <td>ham</td>\n",
       "      <td>Go until jurong point, crazy.. Available only ...</td>\n",
       "      <td>20</td>\n",
       "      <td>111</td>\n",
       "    </tr>\n",
       "    <tr>\n",
       "      <th>1</th>\n",
       "      <td>ham</td>\n",
       "      <td>Ok lar... Joking wif u oni...</td>\n",
       "      <td>6</td>\n",
       "      <td>29</td>\n",
       "    </tr>\n",
       "    <tr>\n",
       "      <th>2</th>\n",
       "      <td>spam</td>\n",
       "      <td>Free entry in 2 a wkly comp to win FA Cup fina...</td>\n",
       "      <td>28</td>\n",
       "      <td>155</td>\n",
       "    </tr>\n",
       "    <tr>\n",
       "      <th>3</th>\n",
       "      <td>ham</td>\n",
       "      <td>U dun say so early hor... U c already then say...</td>\n",
       "      <td>11</td>\n",
       "      <td>49</td>\n",
       "    </tr>\n",
       "    <tr>\n",
       "      <th>4</th>\n",
       "      <td>ham</td>\n",
       "      <td>Nah I don't think he goes to usf, he lives aro...</td>\n",
       "      <td>13</td>\n",
       "      <td>61</td>\n",
       "    </tr>\n",
       "  </tbody>\n",
       "</table>\n",
       "</div>"
      ],
      "text/plain": [
       "  target                                             Emails  word count  \\\n",
       "0    ham  Go until jurong point, crazy.. Available only ...          20   \n",
       "1    ham                      Ok lar... Joking wif u oni...           6   \n",
       "2   spam  Free entry in 2 a wkly comp to win FA Cup fina...          28   \n",
       "3    ham  U dun say so early hor... U c already then say...          11   \n",
       "4    ham  Nah I don't think he goes to usf, he lives aro...          13   \n",
       "\n",
       "   char count  \n",
       "0         111  \n",
       "1          29  \n",
       "2         155  \n",
       "3          49  \n",
       "4          61  "
      ]
     },
     "execution_count": 33,
     "metadata": {},
     "output_type": "execute_result"
    }
   ],
   "source": [
    "data.head()"
   ]
  },
  {
   "cell_type": "code",
   "execution_count": 34,
   "id": "1660bb07",
   "metadata": {},
   "outputs": [],
   "source": [
    "# average of char count with word count"
   ]
  },
  {
   "cell_type": "code",
   "execution_count": 35,
   "id": "8dace5de",
   "metadata": {},
   "outputs": [],
   "source": [
    "data['Average']=data['char count'] /data['word count']"
   ]
  },
  {
   "cell_type": "code",
   "execution_count": 36,
   "id": "99351560",
   "metadata": {},
   "outputs": [
    {
     "data": {
      "text/html": [
       "<div>\n",
       "<style scoped>\n",
       "    .dataframe tbody tr th:only-of-type {\n",
       "        vertical-align: middle;\n",
       "    }\n",
       "\n",
       "    .dataframe tbody tr th {\n",
       "        vertical-align: top;\n",
       "    }\n",
       "\n",
       "    .dataframe thead th {\n",
       "        text-align: right;\n",
       "    }\n",
       "</style>\n",
       "<table border=\"1\" class=\"dataframe\">\n",
       "  <thead>\n",
       "    <tr style=\"text-align: right;\">\n",
       "      <th></th>\n",
       "      <th>target</th>\n",
       "      <th>Emails</th>\n",
       "      <th>word count</th>\n",
       "      <th>char count</th>\n",
       "      <th>Average</th>\n",
       "    </tr>\n",
       "  </thead>\n",
       "  <tbody>\n",
       "    <tr>\n",
       "      <th>0</th>\n",
       "      <td>ham</td>\n",
       "      <td>Go until jurong point, crazy.. Available only ...</td>\n",
       "      <td>20</td>\n",
       "      <td>111</td>\n",
       "      <td>5.550000</td>\n",
       "    </tr>\n",
       "    <tr>\n",
       "      <th>1</th>\n",
       "      <td>ham</td>\n",
       "      <td>Ok lar... Joking wif u oni...</td>\n",
       "      <td>6</td>\n",
       "      <td>29</td>\n",
       "      <td>4.833333</td>\n",
       "    </tr>\n",
       "    <tr>\n",
       "      <th>2</th>\n",
       "      <td>spam</td>\n",
       "      <td>Free entry in 2 a wkly comp to win FA Cup fina...</td>\n",
       "      <td>28</td>\n",
       "      <td>155</td>\n",
       "      <td>5.535714</td>\n",
       "    </tr>\n",
       "    <tr>\n",
       "      <th>3</th>\n",
       "      <td>ham</td>\n",
       "      <td>U dun say so early hor... U c already then say...</td>\n",
       "      <td>11</td>\n",
       "      <td>49</td>\n",
       "      <td>4.454545</td>\n",
       "    </tr>\n",
       "    <tr>\n",
       "      <th>4</th>\n",
       "      <td>ham</td>\n",
       "      <td>Nah I don't think he goes to usf, he lives aro...</td>\n",
       "      <td>13</td>\n",
       "      <td>61</td>\n",
       "      <td>4.692308</td>\n",
       "    </tr>\n",
       "  </tbody>\n",
       "</table>\n",
       "</div>"
      ],
      "text/plain": [
       "  target                                             Emails  word count  \\\n",
       "0    ham  Go until jurong point, crazy.. Available only ...          20   \n",
       "1    ham                      Ok lar... Joking wif u oni...           6   \n",
       "2   spam  Free entry in 2 a wkly comp to win FA Cup fina...          28   \n",
       "3    ham  U dun say so early hor... U c already then say...          11   \n",
       "4    ham  Nah I don't think he goes to usf, he lives aro...          13   \n",
       "\n",
       "   char count   Average  \n",
       "0         111  5.550000  \n",
       "1          29  4.833333  \n",
       "2         155  5.535714  \n",
       "3          49  4.454545  \n",
       "4          61  4.692308  "
      ]
     },
     "execution_count": 36,
     "metadata": {},
     "output_type": "execute_result"
    }
   ],
   "source": [
    "data.head()"
   ]
  },
  {
   "cell_type": "code",
   "execution_count": 37,
   "id": "6ac3bee8",
   "metadata": {},
   "outputs": [],
   "source": [
    "# finding number of stop words in the raw data"
   ]
  },
  {
   "cell_type": "code",
   "execution_count": 39,
   "id": "20881759",
   "metadata": {},
   "outputs": [],
   "source": [
    "from nltk.corpus import stopwords"
   ]
  },
  {
   "cell_type": "code",
   "execution_count": 40,
   "id": "c7ade15c",
   "metadata": {},
   "outputs": [],
   "source": [
    "data['stop words']=data['Emails'].apply(lambda x: len([i  for i in x.split() if i in stopwords.words('english') ]))"
   ]
  },
  {
   "cell_type": "code",
   "execution_count": 41,
   "id": "d525bb64",
   "metadata": {},
   "outputs": [
    {
     "data": {
      "text/html": [
       "<div>\n",
       "<style scoped>\n",
       "    .dataframe tbody tr th:only-of-type {\n",
       "        vertical-align: middle;\n",
       "    }\n",
       "\n",
       "    .dataframe tbody tr th {\n",
       "        vertical-align: top;\n",
       "    }\n",
       "\n",
       "    .dataframe thead th {\n",
       "        text-align: right;\n",
       "    }\n",
       "</style>\n",
       "<table border=\"1\" class=\"dataframe\">\n",
       "  <thead>\n",
       "    <tr style=\"text-align: right;\">\n",
       "      <th></th>\n",
       "      <th>target</th>\n",
       "      <th>Emails</th>\n",
       "      <th>word count</th>\n",
       "      <th>char count</th>\n",
       "      <th>Average</th>\n",
       "      <th>stop words</th>\n",
       "    </tr>\n",
       "  </thead>\n",
       "  <tbody>\n",
       "    <tr>\n",
       "      <th>0</th>\n",
       "      <td>ham</td>\n",
       "      <td>Go until jurong point, crazy.. Available only ...</td>\n",
       "      <td>20</td>\n",
       "      <td>111</td>\n",
       "      <td>5.550000</td>\n",
       "      <td>4</td>\n",
       "    </tr>\n",
       "    <tr>\n",
       "      <th>1</th>\n",
       "      <td>ham</td>\n",
       "      <td>Ok lar... Joking wif u oni...</td>\n",
       "      <td>6</td>\n",
       "      <td>29</td>\n",
       "      <td>4.833333</td>\n",
       "      <td>0</td>\n",
       "    </tr>\n",
       "    <tr>\n",
       "      <th>2</th>\n",
       "      <td>spam</td>\n",
       "      <td>Free entry in 2 a wkly comp to win FA Cup fina...</td>\n",
       "      <td>28</td>\n",
       "      <td>155</td>\n",
       "      <td>5.535714</td>\n",
       "      <td>5</td>\n",
       "    </tr>\n",
       "    <tr>\n",
       "      <th>3</th>\n",
       "      <td>ham</td>\n",
       "      <td>U dun say so early hor... U c already then say...</td>\n",
       "      <td>11</td>\n",
       "      <td>49</td>\n",
       "      <td>4.454545</td>\n",
       "      <td>2</td>\n",
       "    </tr>\n",
       "    <tr>\n",
       "      <th>4</th>\n",
       "      <td>ham</td>\n",
       "      <td>Nah I don't think he goes to usf, he lives aro...</td>\n",
       "      <td>13</td>\n",
       "      <td>61</td>\n",
       "      <td>4.692308</td>\n",
       "      <td>5</td>\n",
       "    </tr>\n",
       "  </tbody>\n",
       "</table>\n",
       "</div>"
      ],
      "text/plain": [
       "  target                                             Emails  word count  \\\n",
       "0    ham  Go until jurong point, crazy.. Available only ...          20   \n",
       "1    ham                      Ok lar... Joking wif u oni...           6   \n",
       "2   spam  Free entry in 2 a wkly comp to win FA Cup fina...          28   \n",
       "3    ham  U dun say so early hor... U c already then say...          11   \n",
       "4    ham  Nah I don't think he goes to usf, he lives aro...          13   \n",
       "\n",
       "   char count   Average  stop words  \n",
       "0         111  5.550000           4  \n",
       "1          29  4.833333           0  \n",
       "2         155  5.535714           5  \n",
       "3          49  4.454545           2  \n",
       "4          61  4.692308           5  "
      ]
     },
     "execution_count": 41,
     "metadata": {},
     "output_type": "execute_result"
    }
   ],
   "source": [
    "data.head()"
   ]
  },
  {
   "cell_type": "code",
   "execution_count": null,
   "id": "2f932e9c",
   "metadata": {},
   "outputs": [],
   "source": [
    "#finding number of digits in a sentence"
   ]
  },
  {
   "cell_type": "code",
   "execution_count": 42,
   "id": "0484c784",
   "metadata": {},
   "outputs": [],
   "source": [
    "data['number count']=data['Emails'].apply(lambda x:len([i for i in x if i.isdigit()]))"
   ]
  },
  {
   "cell_type": "code",
   "execution_count": 43,
   "id": "4b5d9ada",
   "metadata": {},
   "outputs": [
    {
     "data": {
      "text/html": [
       "<div>\n",
       "<style scoped>\n",
       "    .dataframe tbody tr th:only-of-type {\n",
       "        vertical-align: middle;\n",
       "    }\n",
       "\n",
       "    .dataframe tbody tr th {\n",
       "        vertical-align: top;\n",
       "    }\n",
       "\n",
       "    .dataframe thead th {\n",
       "        text-align: right;\n",
       "    }\n",
       "</style>\n",
       "<table border=\"1\" class=\"dataframe\">\n",
       "  <thead>\n",
       "    <tr style=\"text-align: right;\">\n",
       "      <th></th>\n",
       "      <th>target</th>\n",
       "      <th>Emails</th>\n",
       "      <th>word count</th>\n",
       "      <th>char count</th>\n",
       "      <th>Average</th>\n",
       "      <th>stop words</th>\n",
       "      <th>number count</th>\n",
       "    </tr>\n",
       "  </thead>\n",
       "  <tbody>\n",
       "    <tr>\n",
       "      <th>0</th>\n",
       "      <td>ham</td>\n",
       "      <td>Go until jurong point, crazy.. Available only ...</td>\n",
       "      <td>20</td>\n",
       "      <td>111</td>\n",
       "      <td>5.550000</td>\n",
       "      <td>4</td>\n",
       "      <td>0</td>\n",
       "    </tr>\n",
       "    <tr>\n",
       "      <th>1</th>\n",
       "      <td>ham</td>\n",
       "      <td>Ok lar... Joking wif u oni...</td>\n",
       "      <td>6</td>\n",
       "      <td>29</td>\n",
       "      <td>4.833333</td>\n",
       "      <td>0</td>\n",
       "      <td>0</td>\n",
       "    </tr>\n",
       "    <tr>\n",
       "      <th>2</th>\n",
       "      <td>spam</td>\n",
       "      <td>Free entry in 2 a wkly comp to win FA Cup fina...</td>\n",
       "      <td>28</td>\n",
       "      <td>155</td>\n",
       "      <td>5.535714</td>\n",
       "      <td>5</td>\n",
       "      <td>25</td>\n",
       "    </tr>\n",
       "    <tr>\n",
       "      <th>3</th>\n",
       "      <td>ham</td>\n",
       "      <td>U dun say so early hor... U c already then say...</td>\n",
       "      <td>11</td>\n",
       "      <td>49</td>\n",
       "      <td>4.454545</td>\n",
       "      <td>2</td>\n",
       "      <td>0</td>\n",
       "    </tr>\n",
       "    <tr>\n",
       "      <th>4</th>\n",
       "      <td>ham</td>\n",
       "      <td>Nah I don't think he goes to usf, he lives aro...</td>\n",
       "      <td>13</td>\n",
       "      <td>61</td>\n",
       "      <td>4.692308</td>\n",
       "      <td>5</td>\n",
       "      <td>0</td>\n",
       "    </tr>\n",
       "  </tbody>\n",
       "</table>\n",
       "</div>"
      ],
      "text/plain": [
       "  target                                             Emails  word count  \\\n",
       "0    ham  Go until jurong point, crazy.. Available only ...          20   \n",
       "1    ham                      Ok lar... Joking wif u oni...           6   \n",
       "2   spam  Free entry in 2 a wkly comp to win FA Cup fina...          28   \n",
       "3    ham  U dun say so early hor... U c already then say...          11   \n",
       "4    ham  Nah I don't think he goes to usf, he lives aro...          13   \n",
       "\n",
       "   char count   Average  stop words  number count  \n",
       "0         111  5.550000           4             0  \n",
       "1          29  4.833333           0             0  \n",
       "2         155  5.535714           5            25  \n",
       "3          49  4.454545           2             0  \n",
       "4          61  4.692308           5             0  "
      ]
     },
     "execution_count": 43,
     "metadata": {},
     "output_type": "execute_result"
    }
   ],
   "source": [
    "data.head()"
   ]
  },
  {
   "cell_type": "code",
   "execution_count": 44,
   "id": "1f4fb7a1",
   "metadata": {},
   "outputs": [
    {
     "data": {
      "text/plain": [
       "ham     4825\n",
       "spam     747\n",
       "Name: target, dtype: int64"
      ]
     },
     "execution_count": 44,
     "metadata": {},
     "output_type": "execute_result"
    }
   ],
   "source": [
    "#checking\n",
    "data['target'].value_counts()"
   ]
  },
  {
   "cell_type": "code",
   "execution_count": 45,
   "id": "df8a30d1",
   "metadata": {},
   "outputs": [],
   "source": [
    "# we can see above it is Imbalanced ,but develop a model and see"
   ]
  },
  {
   "cell_type": "code",
   "execution_count": 46,
   "id": "f56f8b2d",
   "metadata": {},
   "outputs": [
    {
     "data": {
      "text/plain": [
       "<AxesSubplot: >"
      ]
     },
     "execution_count": 46,
     "metadata": {},
     "output_type": "execute_result"
    },
    {
     "data": {
      "image/png": "[encoded data removed]",
      "text/plain": [
       "<Figure size 640x480 with 1 Axes>"
      ]
     },
     "metadata": {},
     "output_type": "display_data"
    }
   ],
   "source": [
    "data['target'].value_counts().plot.bar()"
   ]
  },
  {
   "cell_type": "code",
   "execution_count": 47,
   "id": "597d6f5a",
   "metadata": {},
   "outputs": [
    {
     "data": {
      "text/html": [
       "<div>\n",
       "<style scoped>\n",
       "    .dataframe tbody tr th:only-of-type {\n",
       "        vertical-align: middle;\n",
       "    }\n",
       "\n",
       "    .dataframe tbody tr th {\n",
       "        vertical-align: top;\n",
       "    }\n",
       "\n",
       "    .dataframe thead th {\n",
       "        text-align: right;\n",
       "    }\n",
       "</style>\n",
       "<table border=\"1\" class=\"dataframe\">\n",
       "  <thead>\n",
       "    <tr style=\"text-align: right;\">\n",
       "      <th></th>\n",
       "      <th>target</th>\n",
       "      <th>Emails</th>\n",
       "      <th>word count</th>\n",
       "      <th>char count</th>\n",
       "      <th>Average</th>\n",
       "      <th>stop words</th>\n",
       "      <th>number count</th>\n",
       "    </tr>\n",
       "  </thead>\n",
       "  <tbody>\n",
       "    <tr>\n",
       "      <th>0</th>\n",
       "      <td>ham</td>\n",
       "      <td>Go until jurong point, crazy.. Available only ...</td>\n",
       "      <td>20</td>\n",
       "      <td>111</td>\n",
       "      <td>5.550000</td>\n",
       "      <td>4</td>\n",
       "      <td>0</td>\n",
       "    </tr>\n",
       "    <tr>\n",
       "      <th>1</th>\n",
       "      <td>ham</td>\n",
       "      <td>Ok lar... Joking wif u oni...</td>\n",
       "      <td>6</td>\n",
       "      <td>29</td>\n",
       "      <td>4.833333</td>\n",
       "      <td>0</td>\n",
       "      <td>0</td>\n",
       "    </tr>\n",
       "    <tr>\n",
       "      <th>2</th>\n",
       "      <td>spam</td>\n",
       "      <td>Free entry in 2 a wkly comp to win FA Cup fina...</td>\n",
       "      <td>28</td>\n",
       "      <td>155</td>\n",
       "      <td>5.535714</td>\n",
       "      <td>5</td>\n",
       "      <td>25</td>\n",
       "    </tr>\n",
       "    <tr>\n",
       "      <th>3</th>\n",
       "      <td>ham</td>\n",
       "      <td>U dun say so early hor... U c already then say...</td>\n",
       "      <td>11</td>\n",
       "      <td>49</td>\n",
       "      <td>4.454545</td>\n",
       "      <td>2</td>\n",
       "      <td>0</td>\n",
       "    </tr>\n",
       "    <tr>\n",
       "      <th>4</th>\n",
       "      <td>ham</td>\n",
       "      <td>Nah I don't think he goes to usf, he lives aro...</td>\n",
       "      <td>13</td>\n",
       "      <td>61</td>\n",
       "      <td>4.692308</td>\n",
       "      <td>5</td>\n",
       "      <td>0</td>\n",
       "    </tr>\n",
       "  </tbody>\n",
       "</table>\n",
       "</div>"
      ],
      "text/plain": [
       "  target                                             Emails  word count  \\\n",
       "0    ham  Go until jurong point, crazy.. Available only ...          20   \n",
       "1    ham                      Ok lar... Joking wif u oni...           6   \n",
       "2   spam  Free entry in 2 a wkly comp to win FA Cup fina...          28   \n",
       "3    ham  U dun say so early hor... U c already then say...          11   \n",
       "4    ham  Nah I don't think he goes to usf, he lives aro...          13   \n",
       "\n",
       "   char count   Average  stop words  number count  \n",
       "0         111  5.550000           4             0  \n",
       "1          29  4.833333           0             0  \n",
       "2         155  5.535714           5            25  \n",
       "3          49  4.454545           2             0  \n",
       "4          61  4.692308           5             0  "
      ]
     },
     "execution_count": 47,
     "metadata": {},
     "output_type": "execute_result"
    }
   ],
   "source": [
    "data.head()"
   ]
  },
  {
   "cell_type": "code",
   "execution_count": 205,
   "id": "e49cad3f",
   "metadata": {},
   "outputs": [
    {
     "ename": "SyntaxError",
     "evalue": "invalid syntax (4046702458.py, line 3)",
     "output_type": "error",
     "traceback": [
      "\u001b[1;36m  File \u001b[1;32m\"C:\\Users\\RGUKT\\AppData\\Local\\Temp\\ipykernel_10116\\4046702458.py\"\u001b[1;36m, line \u001b[1;32m3\u001b[0m\n\u001b[1;33m    -clean the data # removing punctuaitions\u001b[0m\n\u001b[1;37m           ^\u001b[0m\n\u001b[1;31mSyntaxError\u001b[0m\u001b[1;31m:\u001b[0m invalid syntax\n"
     ]
    }
   ],
   "source": [
    "#now preprocessing the data\n",
    "\n",
    "-clean the data # removing punctuaitions\n",
    "-lower text\n",
    "-remove stop words\n",
    "-apply stemming or lematization\n"
   ]
  },
  {
   "cell_type": "code",
   "execution_count": 48,
   "id": "fce14207",
   "metadata": {},
   "outputs": [],
   "source": [
    "# before doing i will conert dependent varaibles first\n",
    "\n",
    "#ham=0\n",
    "\n",
    "#spam=1\n",
    "data['target']=data['target'].map({'ham':0,'spam':1}).astype(int) "
   ]
  },
  {
   "cell_type": "code",
   "execution_count": 49,
   "id": "26c5eaa3",
   "metadata": {},
   "outputs": [
    {
     "data": {
      "text/html": [
       "<div>\n",
       "<style scoped>\n",
       "    .dataframe tbody tr th:only-of-type {\n",
       "        vertical-align: middle;\n",
       "    }\n",
       "\n",
       "    .dataframe tbody tr th {\n",
       "        vertical-align: top;\n",
       "    }\n",
       "\n",
       "    .dataframe thead th {\n",
       "        text-align: right;\n",
       "    }\n",
       "</style>\n",
       "<table border=\"1\" class=\"dataframe\">\n",
       "  <thead>\n",
       "    <tr style=\"text-align: right;\">\n",
       "      <th></th>\n",
       "      <th>target</th>\n",
       "      <th>Emails</th>\n",
       "      <th>word count</th>\n",
       "      <th>char count</th>\n",
       "      <th>Average</th>\n",
       "      <th>stop words</th>\n",
       "      <th>number count</th>\n",
       "    </tr>\n",
       "  </thead>\n",
       "  <tbody>\n",
       "    <tr>\n",
       "      <th>0</th>\n",
       "      <td>0</td>\n",
       "      <td>Go until jurong point, crazy.. Available only ...</td>\n",
       "      <td>20</td>\n",
       "      <td>111</td>\n",
       "      <td>5.550000</td>\n",
       "      <td>4</td>\n",
       "      <td>0</td>\n",
       "    </tr>\n",
       "    <tr>\n",
       "      <th>1</th>\n",
       "      <td>0</td>\n",
       "      <td>Ok lar... Joking wif u oni...</td>\n",
       "      <td>6</td>\n",
       "      <td>29</td>\n",
       "      <td>4.833333</td>\n",
       "      <td>0</td>\n",
       "      <td>0</td>\n",
       "    </tr>\n",
       "    <tr>\n",
       "      <th>2</th>\n",
       "      <td>1</td>\n",
       "      <td>Free entry in 2 a wkly comp to win FA Cup fina...</td>\n",
       "      <td>28</td>\n",
       "      <td>155</td>\n",
       "      <td>5.535714</td>\n",
       "      <td>5</td>\n",
       "      <td>25</td>\n",
       "    </tr>\n",
       "    <tr>\n",
       "      <th>3</th>\n",
       "      <td>0</td>\n",
       "      <td>U dun say so early hor... U c already then say...</td>\n",
       "      <td>11</td>\n",
       "      <td>49</td>\n",
       "      <td>4.454545</td>\n",
       "      <td>2</td>\n",
       "      <td>0</td>\n",
       "    </tr>\n",
       "    <tr>\n",
       "      <th>4</th>\n",
       "      <td>0</td>\n",
       "      <td>Nah I don't think he goes to usf, he lives aro...</td>\n",
       "      <td>13</td>\n",
       "      <td>61</td>\n",
       "      <td>4.692308</td>\n",
       "      <td>5</td>\n",
       "      <td>0</td>\n",
       "    </tr>\n",
       "  </tbody>\n",
       "</table>\n",
       "</div>"
      ],
      "text/plain": [
       "   target                                             Emails  word count  \\\n",
       "0       0  Go until jurong point, crazy.. Available only ...          20   \n",
       "1       0                      Ok lar... Joking wif u oni...           6   \n",
       "2       1  Free entry in 2 a wkly comp to win FA Cup fina...          28   \n",
       "3       0  U dun say so early hor... U c already then say...          11   \n",
       "4       0  Nah I don't think he goes to usf, he lives aro...          13   \n",
       "\n",
       "   char count   Average  stop words  number count  \n",
       "0         111  5.550000           4             0  \n",
       "1          29  4.833333           0             0  \n",
       "2         155  5.535714           5            25  \n",
       "3          49  4.454545           2             0  \n",
       "4          61  4.692308           5             0  "
      ]
     },
     "execution_count": 49,
     "metadata": {},
     "output_type": "execute_result"
    }
   ],
   "source": [
    "data.head()"
   ]
  },
  {
   "cell_type": "code",
   "execution_count": 235,
   "id": "eae80848",
   "metadata": {},
   "outputs": [],
   "source": [
    "for i in data.index:\n",
    "    print(data['target'][i])"
   ]
  },
  {
   "cell_type": "code",
   "execution_count": 236,
   "id": "ffb7c20c",
   "metadata": {},
   "outputs": [],
   "source": [
    "for i in data.target:\n",
    "    print(i)"
   ]
  },
  {
   "cell_type": "code",
   "execution_count": 52,
   "id": "30c0f826",
   "metadata": {},
   "outputs": [],
   "source": [
    "# as from both are same for collecting dependent values"
   ]
  },
  {
   "cell_type": "code",
   "execution_count": 53,
   "id": "cd7a2a4d",
   "metadata": {},
   "outputs": [],
   "source": [
    "#for email columns"
   ]
  },
  {
   "cell_type": "code",
   "execution_count": 54,
   "id": "79cfc0fe",
   "metadata": {},
   "outputs": [
    {
     "data": {
      "text/html": [
       "<div>\n",
       "<style scoped>\n",
       "    .dataframe tbody tr th:only-of-type {\n",
       "        vertical-align: middle;\n",
       "    }\n",
       "\n",
       "    .dataframe tbody tr th {\n",
       "        vertical-align: top;\n",
       "    }\n",
       "\n",
       "    .dataframe thead th {\n",
       "        text-align: right;\n",
       "    }\n",
       "</style>\n",
       "<table border=\"1\" class=\"dataframe\">\n",
       "  <thead>\n",
       "    <tr style=\"text-align: right;\">\n",
       "      <th></th>\n",
       "      <th>target</th>\n",
       "      <th>Emails</th>\n",
       "      <th>word count</th>\n",
       "      <th>char count</th>\n",
       "      <th>Average</th>\n",
       "      <th>stop words</th>\n",
       "      <th>number count</th>\n",
       "    </tr>\n",
       "  </thead>\n",
       "  <tbody>\n",
       "    <tr>\n",
       "      <th>0</th>\n",
       "      <td>0</td>\n",
       "      <td>Go until jurong point, crazy.. Available only ...</td>\n",
       "      <td>20</td>\n",
       "      <td>111</td>\n",
       "      <td>5.550000</td>\n",
       "      <td>4</td>\n",
       "      <td>0</td>\n",
       "    </tr>\n",
       "    <tr>\n",
       "      <th>1</th>\n",
       "      <td>0</td>\n",
       "      <td>Ok lar... Joking wif u oni...</td>\n",
       "      <td>6</td>\n",
       "      <td>29</td>\n",
       "      <td>4.833333</td>\n",
       "      <td>0</td>\n",
       "      <td>0</td>\n",
       "    </tr>\n",
       "    <tr>\n",
       "      <th>2</th>\n",
       "      <td>1</td>\n",
       "      <td>Free entry in 2 a wkly comp to win FA Cup fina...</td>\n",
       "      <td>28</td>\n",
       "      <td>155</td>\n",
       "      <td>5.535714</td>\n",
       "      <td>5</td>\n",
       "      <td>25</td>\n",
       "    </tr>\n",
       "    <tr>\n",
       "      <th>3</th>\n",
       "      <td>0</td>\n",
       "      <td>U dun say so early hor... U c already then say...</td>\n",
       "      <td>11</td>\n",
       "      <td>49</td>\n",
       "      <td>4.454545</td>\n",
       "      <td>2</td>\n",
       "      <td>0</td>\n",
       "    </tr>\n",
       "    <tr>\n",
       "      <th>4</th>\n",
       "      <td>0</td>\n",
       "      <td>Nah I don't think he goes to usf, he lives aro...</td>\n",
       "      <td>13</td>\n",
       "      <td>61</td>\n",
       "      <td>4.692308</td>\n",
       "      <td>5</td>\n",
       "      <td>0</td>\n",
       "    </tr>\n",
       "  </tbody>\n",
       "</table>\n",
       "</div>"
      ],
      "text/plain": [
       "   target                                             Emails  word count  \\\n",
       "0       0  Go until jurong point, crazy.. Available only ...          20   \n",
       "1       0                      Ok lar... Joking wif u oni...           6   \n",
       "2       1  Free entry in 2 a wkly comp to win FA Cup fina...          28   \n",
       "3       0  U dun say so early hor... U c already then say...          11   \n",
       "4       0  Nah I don't think he goes to usf, he lives aro...          13   \n",
       "\n",
       "   char count   Average  stop words  number count  \n",
       "0         111  5.550000           4             0  \n",
       "1          29  4.833333           0             0  \n",
       "2         155  5.535714           5            25  \n",
       "3          49  4.454545           2             0  \n",
       "4          61  4.692308           5             0  "
      ]
     },
     "execution_count": 54,
     "metadata": {},
     "output_type": "execute_result"
    }
   ],
   "source": [
    "data.head()"
   ]
  },
  {
   "cell_type": "code",
   "execution_count": 55,
   "id": "f41ab4d1",
   "metadata": {},
   "outputs": [
    {
     "ename": "SyntaxError",
     "evalue": "invalid syntax (297741365.py, line 5)",
     "output_type": "error",
     "traceback": [
      "\u001b[1;36m  File \u001b[1;32m\"C:\\Users\\RGUKT\\AppData\\Local\\Temp\\ipykernel_7536\\297741365.py\"\u001b[1;36m, line \u001b[1;32m5\u001b[0m\n\u001b[1;33m    in regex d refrs to number\u001b[0m\n\u001b[1;37m    ^\u001b[0m\n\u001b[1;31mSyntaxError\u001b[0m\u001b[1;31m:\u001b[0m invalid syntax\n"
     ]
    }
   ],
   "source": [
    "#the above we are not getting 9999 but we are also getting 35\n",
    "\n",
    "#here comes the concept of regex \n",
    "\n",
    "in regex d refrs to number"
   ]
  },
  {
   "cell_type": "code",
   "execution_count": 56,
   "id": "233e9769",
   "metadata": {},
   "outputs": [
    {
     "name": "stdout",
     "output_type": "stream",
     "text": [
      "['9999098765']\n"
     ]
    }
   ],
   "source": [
    "import re\n",
    "a='i am data scientist 35 and my number 9999098765'\n",
    "sol=re.findall('\\d{10}',a) # d is digits and {10} is combination of 10 digits\n",
    "print(sol)"
   ]
  },
  {
   "cell_type": "markdown",
   "id": "5174d37a",
   "metadata": {},
   "source": [
    "Using regex i am collecting only text and numbers \n",
    "\n",
    "Eg\n",
    "\n",
    "1)bring me 10 apples\n",
    "\n",
    "2)bring me apples\n",
    "#here above in eg 1 number plays a keyrole"
   ]
  },
  {
   "cell_type": "code",
   "execution_count": 57,
   "id": "56f2cf5b",
   "metadata": {},
   "outputs": [
    {
     "data": {
      "text/html": [
       "<div>\n",
       "<style scoped>\n",
       "    .dataframe tbody tr th:only-of-type {\n",
       "        vertical-align: middle;\n",
       "    }\n",
       "\n",
       "    .dataframe tbody tr th {\n",
       "        vertical-align: top;\n",
       "    }\n",
       "\n",
       "    .dataframe thead th {\n",
       "        text-align: right;\n",
       "    }\n",
       "</style>\n",
       "<table border=\"1\" class=\"dataframe\">\n",
       "  <thead>\n",
       "    <tr style=\"text-align: right;\">\n",
       "      <th></th>\n",
       "      <th>target</th>\n",
       "      <th>Emails</th>\n",
       "      <th>word count</th>\n",
       "      <th>char count</th>\n",
       "      <th>Average</th>\n",
       "      <th>stop words</th>\n",
       "      <th>number count</th>\n",
       "    </tr>\n",
       "  </thead>\n",
       "  <tbody>\n",
       "    <tr>\n",
       "      <th>0</th>\n",
       "      <td>0</td>\n",
       "      <td>Go until jurong point, crazy.. Available only ...</td>\n",
       "      <td>20</td>\n",
       "      <td>111</td>\n",
       "      <td>5.550000</td>\n",
       "      <td>4</td>\n",
       "      <td>0</td>\n",
       "    </tr>\n",
       "    <tr>\n",
       "      <th>1</th>\n",
       "      <td>0</td>\n",
       "      <td>Ok lar... Joking wif u oni...</td>\n",
       "      <td>6</td>\n",
       "      <td>29</td>\n",
       "      <td>4.833333</td>\n",
       "      <td>0</td>\n",
       "      <td>0</td>\n",
       "    </tr>\n",
       "    <tr>\n",
       "      <th>2</th>\n",
       "      <td>1</td>\n",
       "      <td>Free entry in 2 a wkly comp to win FA Cup fina...</td>\n",
       "      <td>28</td>\n",
       "      <td>155</td>\n",
       "      <td>5.535714</td>\n",
       "      <td>5</td>\n",
       "      <td>25</td>\n",
       "    </tr>\n",
       "    <tr>\n",
       "      <th>3</th>\n",
       "      <td>0</td>\n",
       "      <td>U dun say so early hor... U c already then say...</td>\n",
       "      <td>11</td>\n",
       "      <td>49</td>\n",
       "      <td>4.454545</td>\n",
       "      <td>2</td>\n",
       "      <td>0</td>\n",
       "    </tr>\n",
       "    <tr>\n",
       "      <th>4</th>\n",
       "      <td>0</td>\n",
       "      <td>Nah I don't think he goes to usf, he lives aro...</td>\n",
       "      <td>13</td>\n",
       "      <td>61</td>\n",
       "      <td>4.692308</td>\n",
       "      <td>5</td>\n",
       "      <td>0</td>\n",
       "    </tr>\n",
       "  </tbody>\n",
       "</table>\n",
       "</div>"
      ],
      "text/plain": [
       "   target                                             Emails  word count  \\\n",
       "0       0  Go until jurong point, crazy.. Available only ...          20   \n",
       "1       0                      Ok lar... Joking wif u oni...           6   \n",
       "2       1  Free entry in 2 a wkly comp to win FA Cup fina...          28   \n",
       "3       0  U dun say so early hor... U c already then say...          11   \n",
       "4       0  Nah I don't think he goes to usf, he lives aro...          13   \n",
       "\n",
       "   char count   Average  stop words  number count  \n",
       "0         111  5.550000           4             0  \n",
       "1          29  4.833333           0             0  \n",
       "2         155  5.535714           5            25  \n",
       "3          49  4.454545           2             0  \n",
       "4          61  4.692308           5             0  "
      ]
     },
     "execution_count": 57,
     "metadata": {},
     "output_type": "execute_result"
    }
   ],
   "source": [
    "data.head()"
   ]
  },
  {
   "cell_type": "code",
   "execution_count": 59,
   "id": "30787880",
   "metadata": {},
   "outputs": [],
   "source": [
    "# in regex we have a method called sub whicch keeps what we wwant and removes what we dont want"
   ]
  },
  {
   "cell_type": "code",
   "execution_count": 60,
   "id": "f39d2618",
   "metadata": {},
   "outputs": [
    {
     "name": "stdout",
     "output_type": "stream",
     "text": [
      "i am data scientist 35 and my number 9999098765\n",
      "i am data scientist    and my number           \n"
     ]
    }
   ],
   "source": [
    "# whereever is scients replace science\n",
    "sol=re.sub('[^a-zA-Z]',' ',a)\n",
    "print(a)\n",
    "print(sol)"
   ]
  },
  {
   "cell_type": "code",
   "execution_count": 61,
   "id": "a30a3aad",
   "metadata": {},
   "outputs": [],
   "source": [
    "import nltk\n",
    "from nltk.corpus import stopwords\n",
    "from nltk.stem import PorterStemmer\n",
    "s=PorterStemmer()"
   ]
  },
  {
   "cell_type": "code",
   "execution_count": 62,
   "id": "3f4bde71",
   "metadata": {},
   "outputs": [
    {
     "name": "stdout",
     "output_type": "stream",
     "text": [
      "Go until jurong point, crazy.. Available only in bugis n great world la e buffet... Cine there got amore wat...\n",
      " \n",
      "go jurong point crazi avail bugi n great world la e buffet cine got amor wat\n"
     ]
    }
   ],
   "source": [
    "# firstly checking for on rwo\n",
    "cc=data['Emails'][0]\n",
    "print(cc)\n",
    "sol=re.sub('[^a-zA-Z0-9]',' ',cc)# removing punctuations\n",
    "sol=sol.lower() # lowering text\n",
    "sol=sol.split() # spliting for removing stopwords\n",
    "sol=[i for i in sol if i not in stopwords.words('english')]\n",
    "sol=[s.stem(j) for j in sol] # applying stemming\n",
    "\n",
    "sol=' '.join(sol)\n",
    "print(' ')\n",
    "print(sol)"
   ]
  },
  {
   "cell_type": "code",
   "execution_count": 63,
   "id": "735448ff",
   "metadata": {},
   "outputs": [],
   "source": [
    "list1=[]\n",
    "for i in data.index:\n",
    "    sol1=re.sub('[^a-zA-Z0-9]',' ',data['Emails'][i]) #cleaning\n",
    "    sol1=sol1.lower()\n",
    "    sol1=sol1.split()\n",
    "    sol1=[i for i in sol1 if i not in stopwords.words('english')]\n",
    "    sol1=[s.stem(i) for i in sol1]\n",
    "    sol1=' '.join(sol1)\n",
    "    list1.append(sol1)\n",
    "    \n",
    "    "
   ]
  },
  {
   "cell_type": "code",
   "execution_count": 237,
   "id": "5bf42a99",
   "metadata": {},
   "outputs": [],
   "source": [
    "list1"
   ]
  },
  {
   "cell_type": "code",
   "execution_count": null,
   "id": "87edb123",
   "metadata": {},
   "outputs": [],
   "source": [
    "# on the top of raw data i applied word count,charcter count,stop words count,number count,average count,\n",
    "#and complete preprocessig data"
   ]
  },
  {
   "cell_type": "code",
   "execution_count": null,
   "id": "5a11fccc",
   "metadata": {},
   "outputs": [],
   "source": [
    "# converting text into nmbers but not with tf_idf but bty padding we will do it"
   ]
  },
  {
   "cell_type": "code",
   "execution_count": 69,
   "id": "7464ed2c",
   "metadata": {},
   "outputs": [],
   "source": [
    "import tensorflow as tf\n",
    "from tensorflow import keras\n",
    "from tensorflow.keras.preprocessing.text import one_hot\n",
    "from tensorflow.keras.preprocessing.sequence import pad_sequences"
   ]
  },
  {
   "cell_type": "code",
   "execution_count": 70,
   "id": "dc0e9ce9",
   "metadata": {},
   "outputs": [
    {
     "data": {
      "text/plain": [
       "'go jurong point crazi avail bugi n great world la e buffet cine got amor wat'"
      ]
     },
     "execution_count": 70,
     "metadata": {},
     "output_type": "execute_result"
    }
   ],
   "source": [
    "list1[0]"
   ]
  },
  {
   "cell_type": "code",
   "execution_count": 71,
   "id": "80a0ae34",
   "metadata": {},
   "outputs": [],
   "source": [
    "voc_size=1000 # for having range in one hot between 1 t0 1000 we are dealing this\n",
    "\n",
    "vector=[one_hot(i,voc_size)for i in list1]"
   ]
  },
  {
   "cell_type": "code",
   "execution_count": 238,
   "id": "bdfdce7a",
   "metadata": {},
   "outputs": [],
   "source": [
    "vector"
   ]
  },
  {
   "cell_type": "code",
   "execution_count": 73,
   "id": "c7ace893",
   "metadata": {},
   "outputs": [
    {
     "name": "stdout",
     "output_type": "stream",
     "text": [
      "16\n"
     ]
    }
   ],
   "source": [
    "print(len(vector[0]))"
   ]
  },
  {
   "cell_type": "code",
   "execution_count": 75,
   "id": "6cf40149",
   "metadata": {},
   "outputs": [
    {
     "name": "stdout",
     "output_type": "stream",
     "text": [
      "16\n"
     ]
    }
   ],
   "source": [
    "a=list1[0]\n",
    "a1=a.split()\n",
    "print(len(a1))"
   ]
  },
  {
   "cell_type": "code",
   "execution_count": null,
   "id": "bf00f72f",
   "metadata": {},
   "outputs": [],
   "source": [
    "# from above we can see both having same length"
   ]
  },
  {
   "cell_type": "code",
   "execution_count": null,
   "id": "fd2ebf40",
   "metadata": {},
   "outputs": [],
   "source": [
    "## now we are going to do padding so as to maintain same length in all sentences"
   ]
  },
  {
   "cell_type": "code",
   "execution_count": 78,
   "id": "f1254dc1",
   "metadata": {},
   "outputs": [],
   "source": [
    "# for finding maximum numbers of sentecce in a emails so as to do padding accordigly\n",
    "c=[]\n",
    "for i in vector:\n",
    "    c.append(len(i))"
   ]
  },
  {
   "cell_type": "code",
   "execution_count": 79,
   "id": "d6d44c76",
   "metadata": {},
   "outputs": [
    {
     "name": "stdout",
     "output_type": "stream",
     "text": [
      "78\n"
     ]
    }
   ],
   "source": [
    "print(max(c))"
   ]
  },
  {
   "cell_type": "code",
   "execution_count": 80,
   "id": "54a0965e",
   "metadata": {},
   "outputs": [],
   "source": [
    "sent_len=78\n",
    "pad_vectors=pad_sequences(vector,maxlen=sent_len,padding='post')"
   ]
  },
  {
   "cell_type": "code",
   "execution_count": 81,
   "id": "6506d3c7",
   "metadata": {},
   "outputs": [
    {
     "data": {
      "text/plain": [
       "array([[731, 758, 963, ...,   0,   0,   0],\n",
       "       [864, 459, 487, ...,   0,   0,   0],\n",
       "       [525, 473, 332, ...,   0,   0,   0],\n",
       "       ...,\n",
       "       [515, 908,  12, ...,   0,   0,   0],\n",
       "       [621, 789, 391, ...,   0,   0,   0],\n",
       "       [225, 725, 122, ...,   0,   0,   0]])"
      ]
     },
     "execution_count": 81,
     "metadata": {},
     "output_type": "execute_result"
    }
   ],
   "source": [
    "pad_vectors"
   ]
  },
  {
   "cell_type": "code",
   "execution_count": null,
   "id": "910fc051",
   "metadata": {},
   "outputs": [],
   "source": [
    "## my independent = pad_vectors"
   ]
  },
  {
   "cell_type": "code",
   "execution_count": null,
   "id": "18796723",
   "metadata": {},
   "outputs": [],
   "source": [
    "## my dependent is data['target'"
   ]
  },
  {
   "cell_type": "code",
   "execution_count": 82,
   "id": "972afcc8",
   "metadata": {},
   "outputs": [
    {
     "data": {
      "text/plain": [
       "0       0\n",
       "1       0\n",
       "2       1\n",
       "3       0\n",
       "4       0\n",
       "       ..\n",
       "5567    1\n",
       "5568    0\n",
       "5569    0\n",
       "5570    0\n",
       "5571    0\n",
       "Name: target, Length: 5572, dtype: int32"
      ]
     },
     "execution_count": 82,
     "metadata": {},
     "output_type": "execute_result"
    }
   ],
   "source": [
    "data['target']"
   ]
  },
  {
   "cell_type": "code",
   "execution_count": null,
   "id": "f4b6aafb",
   "metadata": {},
   "outputs": [],
   "source": [
    "# now we will dealing with rnn"
   ]
  },
  {
   "cell_type": "code",
   "execution_count": 132,
   "id": "06f1c537",
   "metadata": {},
   "outputs": [],
   "source": [
    "from tensorflow.keras.models import Sequential\n",
    "from tensorflow.keras.layers import Dense,Flatten,Embedding,LSTM,Activation\n",
    "from tensorflow.keras.activations import sigmoid,relu,tanh,softmax\n"
   ]
  },
  {
   "cell_type": "code",
   "execution_count": 150,
   "id": "efe1d8e2",
   "metadata": {},
   "outputs": [],
   "source": [
    "model=Sequential()\n",
    "\n",
    "model.add(Embedding(voc_size, 10, input_length=sent_len)) # embedding layer\n",
    "model.add(LSTM(100))  # means it will have 100 boxes\n",
    "model.add(Dense(1,activation='sigmoid'))"
   ]
  },
  {
   "cell_type": "code",
   "execution_count": 182,
   "id": "f6e51352",
   "metadata": {},
   "outputs": [],
   "source": [
    "model.compile(optimizer='adam', loss='binary_crossentropy',metrics=['Acc'])"
   ]
  },
  {
   "cell_type": "code",
   "execution_count": 180,
   "id": "d3357360",
   "metadata": {},
   "outputs": [
    {
     "name": "stdout",
     "output_type": "stream",
     "text": [
      "Model: \"sequential_5\"\n",
      "_________________________________________________________________\n",
      " Layer (type)                Output Shape              Param #   \n",
      "=================================================================\n",
      " embedding_4 (Embedding)     (None, 78, 10)            10000     \n",
      "                                                                 \n",
      " lstm_4 (LSTM)               (None, 100)               44400     \n",
      "                                                                 \n",
      " dense_4 (Dense)             (None, 1)                 101       \n",
      "                                                                 \n",
      "=================================================================\n",
      "Total params: 54,501\n",
      "Trainable params: 54,501\n",
      "Non-trainable params: 0\n",
      "_________________________________________________________________\n"
     ]
    }
   ],
   "source": [
    "model.summary()"
   ]
  },
  {
   "cell_type": "code",
   "execution_count": 181,
   "id": "073c4eaf",
   "metadata": {},
   "outputs": [
    {
     "data": {
      "text/plain": [
       "numpy.ndarray"
      ]
     },
     "execution_count": 181,
     "metadata": {},
     "output_type": "execute_result"
    }
   ],
   "source": [
    "type(pad_vectors)"
   ]
  },
  {
   "cell_type": "code",
   "execution_count": 154,
   "id": "a51a0802",
   "metadata": {},
   "outputs": [
    {
     "data": {
      "text/plain": [
       "pandas.core.series.Series"
      ]
     },
     "execution_count": 154,
     "metadata": {},
     "output_type": "execute_result"
    }
   ],
   "source": [
    "type(data['target'])"
   ]
  },
  {
   "cell_type": "code",
   "execution_count": 155,
   "id": "62b9ab5f",
   "metadata": {},
   "outputs": [],
   "source": [
    "# before giving to model both should be in numpy array format"
   ]
  },
  {
   "cell_type": "code",
   "execution_count": 164,
   "id": "e48c7f5e",
   "metadata": {},
   "outputs": [],
   "source": [
    "X=np.array(pad_vectors)\n",
    "y=np.array(data['target'])"
   ]
  },
  {
   "cell_type": "code",
   "execution_count": 166,
   "id": "a39e18a6",
   "metadata": {},
   "outputs": [
    {
     "name": "stdout",
     "output_type": "stream",
     "text": [
      "<class 'numpy.ndarray'> <class 'numpy.ndarray'>\n"
     ]
    }
   ],
   "source": [
    "print(type(X) ,type(y))"
   ]
  },
  {
   "cell_type": "code",
   "execution_count": 168,
   "id": "eeb2fd3e",
   "metadata": {},
   "outputs": [
    {
     "data": {
      "text/plain": [
       "5572"
      ]
     },
     "execution_count": 168,
     "metadata": {},
     "output_type": "execute_result"
    }
   ],
   "source": [
    "len(X)"
   ]
  },
  {
   "cell_type": "code",
   "execution_count": 169,
   "id": "d8bbc9a5",
   "metadata": {},
   "outputs": [],
   "source": [
    "import sklearn"
   ]
  },
  {
   "cell_type": "code",
   "execution_count": 170,
   "id": "e6297a88",
   "metadata": {},
   "outputs": [],
   "source": [
    "from sklearn.model_selection import train_test_split"
   ]
  },
  {
   "cell_type": "code",
   "execution_count": 173,
   "id": "26fb3489",
   "metadata": {},
   "outputs": [],
   "source": [
    " X_train, X_test, y_train, y_test = train_test_split(X, y, test_size=0.33, random_state=42)"
   ]
  },
  {
   "cell_type": "code",
   "execution_count": 174,
   "id": "05743889",
   "metadata": {},
   "outputs": [
    {
     "data": {
      "text/plain": [
       "3733"
      ]
     },
     "execution_count": 174,
     "metadata": {},
     "output_type": "execute_result"
    }
   ],
   "source": [
    "len(X_train)"
   ]
  },
  {
   "cell_type": "code",
   "execution_count": 183,
   "id": "5eecf4b0",
   "metadata": {},
   "outputs": [
    {
     "name": "stdout",
     "output_type": "stream",
     "text": [
      "Epoch 1/20\n",
      "117/117 [==============================] - 18s 86ms/step - loss: 0.4268 - Acc: 0.8674\n",
      "Epoch 2/20\n",
      "117/117 [==============================] - 12s 102ms/step - loss: 0.3939 - Acc: 0.8674\n",
      "Epoch 3/20\n",
      "117/117 [==============================] - 9s 80ms/step - loss: 0.3928 - Acc: 0.8674\n",
      "Epoch 4/20\n",
      "117/117 [==============================] - 9s 80ms/step - loss: 0.3931 - Acc: 0.8674\n",
      "Epoch 5/20\n",
      "117/117 [==============================] - 10s 84ms/step - loss: 0.3930 - Acc: 0.8674\n",
      "Epoch 6/20\n",
      "117/117 [==============================] - 10s 81ms/step - loss: 0.3923 - Acc: 0.8674\n",
      "Epoch 7/20\n",
      "117/117 [==============================] - 10s 83ms/step - loss: 0.3931 - Acc: 0.8674\n",
      "Epoch 8/20\n",
      "117/117 [==============================] - 10s 82ms/step - loss: 0.3929 - Acc: 0.8674\n",
      "Epoch 9/20\n",
      "117/117 [==============================] - 10s 81ms/step - loss: 0.3920 - Acc: 0.8674\n",
      "Epoch 10/20\n",
      "117/117 [==============================] - 9s 80ms/step - loss: 0.3923 - Acc: 0.8674\n",
      "Epoch 11/20\n",
      "117/117 [==============================] - 9s 80ms/step - loss: 0.3922 - Acc: 0.8674\n",
      "Epoch 12/20\n",
      "117/117 [==============================] - 9s 80ms/step - loss: 0.3929 - Acc: 0.8674\n",
      "Epoch 13/20\n",
      "117/117 [==============================] - 10s 83ms/step - loss: 0.3930 - Acc: 0.8674\n",
      "Epoch 14/20\n",
      "117/117 [==============================] - 11s 92ms/step - loss: 0.3934 - Acc: 0.8674\n",
      "Epoch 15/20\n",
      "117/117 [==============================] - 14s 122ms/step - loss: 0.3916 - Acc: 0.8674\n",
      "Epoch 16/20\n",
      "117/117 [==============================] - 10s 86ms/step - loss: 0.3926 - Acc: 0.8674\n",
      "Epoch 17/20\n",
      "117/117 [==============================] - 10s 84ms/step - loss: 0.3920 - Acc: 0.8674\n",
      "Epoch 18/20\n",
      "117/117 [==============================] - 9s 80ms/step - loss: 0.3916 - Acc: 0.8674\n",
      "Epoch 19/20\n",
      "117/117 [==============================] - 10s 82ms/step - loss: 0.3914 - Acc: 0.8674\n",
      "Epoch 20/20\n",
      "117/117 [==============================] - 10s 83ms/step - loss: 0.3920 - Acc: 0.8674\n"
     ]
    },
    {
     "data": {
      "text/plain": [
       "<keras.callbacks.History at 0x1f67e402a30>"
      ]
     },
     "execution_count": 183,
     "metadata": {},
     "output_type": "execute_result"
    }
   ],
   "source": [
    "model.fit(X_train , y_train , batch_size=32, epochs=20)"
   ]
  },
  {
   "cell_type": "code",
   "execution_count": 190,
   "id": "46953d2f",
   "metadata": {},
   "outputs": [
    {
     "name": "stdout",
     "output_type": "stream",
     "text": [
      "58/58 [==============================] - 2s 25ms/step\n"
     ]
    }
   ],
   "source": [
    "y_test_pred=model.predict(X_test)"
   ]
  },
  {
   "cell_type": "code",
   "execution_count": 191,
   "id": "aaf20c6d",
   "metadata": {},
   "outputs": [
    {
     "data": {
      "text/plain": [
       "array([[0.14071259],\n",
       "       [0.1407125 ],\n",
       "       [0.14071245],\n",
       "       ...,\n",
       "       [0.14071237],\n",
       "       [0.14071238],\n",
       "       [0.14071245]], dtype=float32)"
      ]
     },
     "execution_count": 191,
     "metadata": {},
     "output_type": "execute_result"
    }
   ],
   "source": [
    "y_test_pred"
   ]
  },
  {
   "cell_type": "code",
   "execution_count": 192,
   "id": "ce1fbd8d",
   "metadata": {},
   "outputs": [],
   "source": [
    "c=[]\n",
    "for i in y_test_pred:\n",
    "    if i > 0.5:\n",
    "        c.append(1)\n",
    "    else:\n",
    "        c.append(0)"
   ]
  },
  {
   "cell_type": "code",
   "execution_count": 193,
   "id": "eebc9e0a",
   "metadata": {},
   "outputs": [],
   "source": [
    "from sklearn.metrics import classification_report,confusion_matrix,accuracy_score"
   ]
  },
  {
   "cell_type": "code",
   "execution_count": 194,
   "id": "e9634a01",
   "metadata": {},
   "outputs": [
    {
     "data": {
      "text/plain": [
       "0.8629690048939641"
      ]
     },
     "execution_count": 194,
     "metadata": {},
     "output_type": "execute_result"
    }
   ],
   "source": [
    "accuracy_score(y_test,c)"
   ]
  },
  {
   "cell_type": "code",
   "execution_count": 195,
   "id": "0cf4eb49",
   "metadata": {},
   "outputs": [
    {
     "data": {
      "text/plain": [
       "array([[1587,    0],\n",
       "       [ 252,    0]], dtype=int64)"
      ]
     },
     "execution_count": 195,
     "metadata": {},
     "output_type": "execute_result"
    }
   ],
   "source": [
    "confusion_matrix(y_test,c)"
   ]
  },
  {
   "cell_type": "code",
   "execution_count": 197,
   "id": "b429b4ea",
   "metadata": {},
   "outputs": [
    {
     "data": {
      "text/plain": [
       "0.8629690048939641"
      ]
     },
     "execution_count": 197,
     "metadata": {},
     "output_type": "execute_result"
    }
   ],
   "source": [
    "1587/(252+1587)"
   ]
  },
  {
   "cell_type": "code",
   "execution_count": 199,
   "id": "a3314438",
   "metadata": {},
   "outputs": [
    {
     "name": "stdout",
     "output_type": "stream",
     "text": [
      "              precision    recall  f1-score   support\n",
      "\n",
      "           0       0.86      1.00      0.93      1587\n",
      "           1       0.00      0.00      0.00       252\n",
      "\n",
      "    accuracy                           0.86      1839\n",
      "   macro avg       0.43      0.50      0.46      1839\n",
      "weighted avg       0.74      0.86      0.80      1839\n",
      "\n"
     ]
    },
    {
     "name": "stderr",
     "output_type": "stream",
     "text": [
      "C:\\Users\\RGUKT\\anaconda3\\envs\\newanaconda\\lib\\site-packages\\sklearn\\metrics\\_classification.py:1318: UndefinedMetricWarning: Precision and F-score are ill-defined and being set to 0.0 in labels with no predicted samples. Use `zero_division` parameter to control this behavior.\n",
      "  _warn_prf(average, modifier, msg_start, len(result))\n",
      "C:\\Users\\RGUKT\\anaconda3\\envs\\newanaconda\\lib\\site-packages\\sklearn\\metrics\\_classification.py:1318: UndefinedMetricWarning: Precision and F-score are ill-defined and being set to 0.0 in labels with no predicted samples. Use `zero_division` parameter to control this behavior.\n",
      "  _warn_prf(average, modifier, msg_start, len(result))\n",
      "C:\\Users\\RGUKT\\anaconda3\\envs\\newanaconda\\lib\\site-packages\\sklearn\\metrics\\_classification.py:1318: UndefinedMetricWarning: Precision and F-score are ill-defined and being set to 0.0 in labels with no predicted samples. Use `zero_division` parameter to control this behavior.\n",
      "  _warn_prf(average, modifier, msg_start, len(result))\n"
     ]
    }
   ],
   "source": [
    "print(classification_report(y_test,c))"
   ]
  },
  {
   "cell_type": "code",
   "execution_count": null,
   "id": "47e47e6b",
   "metadata": {},
   "outputs": [],
   "source": [
    "#model testing"
   ]
  },
  {
   "cell_type": "code",
   "execution_count": 212,
   "id": "c2f8014a",
   "metadata": {},
   "outputs": [],
   "source": [
    "def jaga():\n",
    "    a=input('eneter a mail')\n",
    "    c1=[]\n",
    "    sol=re.sub('[^a-zA-Z0-9]',' ',a)\n",
    "    sol=sol.lower()\n",
    "    sol=sol.split()\n",
    "    sol=[i for i in sol if i not in stopwords.words('english')]\n",
    "    sol=[s.stem(j) for j in sol]\n",
    "    print(sol)\n",
    "    sol=' '.join(sol)\n",
    "    print(sol)\n",
    "    c1.append(sol)\n",
    "    print(c1)\n",
    "    ve=[one_hot(i,voc_size) for i in c1]\n",
    "    print(ve)\n",
    "    print(' ')\n",
    "    pad_vec=pad_sequences(ve,maxlen=sent_len,padding='post')\n",
    "    if model.predict(pad_vec) > 0.5:\n",
    "        print('spam mail')\n",
    "    else:\n",
    "        print('ham mail')\n",
    "    \n",
    "    \n",
    "    "
   ]
  },
  {
   "cell_type": "code",
   "execution_count": 213,
   "id": "2a7bea65",
   "metadata": {},
   "outputs": [
    {
     "name": "stdout",
     "output_type": "stream",
     "text": [
      "eneter a maili am goin to temple\n",
      "['goin', 'templ']\n",
      "goin templ\n",
      "['goin templ']\n",
      "[[702, 256]]\n",
      " \n",
      "1/1 [==============================] - 0s 56ms/step\n",
      "ham mail\n"
     ]
    }
   ],
   "source": [
    "jaga()"
   ]
  },
  {
   "cell_type": "code",
   "execution_count": 214,
   "id": "14da6360",
   "metadata": {},
   "outputs": [],
   "source": [
    "# checking from data set"
   ]
  },
  {
   "cell_type": "code",
   "execution_count": 215,
   "id": "cb30d2d2",
   "metadata": {},
   "outputs": [
    {
     "data": {
      "text/html": [
       "<div>\n",
       "<style scoped>\n",
       "    .dataframe tbody tr th:only-of-type {\n",
       "        vertical-align: middle;\n",
       "    }\n",
       "\n",
       "    .dataframe tbody tr th {\n",
       "        vertical-align: top;\n",
       "    }\n",
       "\n",
       "    .dataframe thead th {\n",
       "        text-align: right;\n",
       "    }\n",
       "</style>\n",
       "<table border=\"1\" class=\"dataframe\">\n",
       "  <thead>\n",
       "    <tr style=\"text-align: right;\">\n",
       "      <th></th>\n",
       "      <th>target</th>\n",
       "      <th>Emails</th>\n",
       "      <th>word count</th>\n",
       "      <th>char count</th>\n",
       "      <th>Average</th>\n",
       "      <th>stop words</th>\n",
       "      <th>number count</th>\n",
       "    </tr>\n",
       "  </thead>\n",
       "  <tbody>\n",
       "    <tr>\n",
       "      <th>0</th>\n",
       "      <td>0</td>\n",
       "      <td>Go until jurong point, crazy.. Available only ...</td>\n",
       "      <td>20</td>\n",
       "      <td>111</td>\n",
       "      <td>5.550000</td>\n",
       "      <td>4</td>\n",
       "      <td>0</td>\n",
       "    </tr>\n",
       "    <tr>\n",
       "      <th>1</th>\n",
       "      <td>0</td>\n",
       "      <td>Ok lar... Joking wif u oni...</td>\n",
       "      <td>6</td>\n",
       "      <td>29</td>\n",
       "      <td>4.833333</td>\n",
       "      <td>0</td>\n",
       "      <td>0</td>\n",
       "    </tr>\n",
       "    <tr>\n",
       "      <th>2</th>\n",
       "      <td>1</td>\n",
       "      <td>Free entry in 2 a wkly comp to win FA Cup fina...</td>\n",
       "      <td>28</td>\n",
       "      <td>155</td>\n",
       "      <td>5.535714</td>\n",
       "      <td>5</td>\n",
       "      <td>25</td>\n",
       "    </tr>\n",
       "    <tr>\n",
       "      <th>3</th>\n",
       "      <td>0</td>\n",
       "      <td>U dun say so early hor... U c already then say...</td>\n",
       "      <td>11</td>\n",
       "      <td>49</td>\n",
       "      <td>4.454545</td>\n",
       "      <td>2</td>\n",
       "      <td>0</td>\n",
       "    </tr>\n",
       "    <tr>\n",
       "      <th>4</th>\n",
       "      <td>0</td>\n",
       "      <td>Nah I don't think he goes to usf, he lives aro...</td>\n",
       "      <td>13</td>\n",
       "      <td>61</td>\n",
       "      <td>4.692308</td>\n",
       "      <td>5</td>\n",
       "      <td>0</td>\n",
       "    </tr>\n",
       "  </tbody>\n",
       "</table>\n",
       "</div>"
      ],
      "text/plain": [
       "   target                                             Emails  word count  \\\n",
       "0       0  Go until jurong point, crazy.. Available only ...          20   \n",
       "1       0                      Ok lar... Joking wif u oni...           6   \n",
       "2       1  Free entry in 2 a wkly comp to win FA Cup fina...          28   \n",
       "3       0  U dun say so early hor... U c already then say...          11   \n",
       "4       0  Nah I don't think he goes to usf, he lives aro...          13   \n",
       "\n",
       "   char count   Average  stop words  number count  \n",
       "0         111  5.550000           4             0  \n",
       "1          29  4.833333           0             0  \n",
       "2         155  5.535714           5            25  \n",
       "3          49  4.454545           2             0  \n",
       "4          61  4.692308           5             0  "
      ]
     },
     "execution_count": 215,
     "metadata": {},
     "output_type": "execute_result"
    }
   ],
   "source": [
    "data.head()"
   ]
  },
  {
   "cell_type": "code",
   "execution_count": 216,
   "id": "c65f916f",
   "metadata": {},
   "outputs": [
    {
     "data": {
      "text/plain": [
       "'Ok lar... Joking wif u oni...'"
      ]
     },
     "execution_count": 216,
     "metadata": {},
     "output_type": "execute_result"
    }
   ],
   "source": [
    "data['Emails'][1] # it should be 0 means ham mail "
   ]
  },
  {
   "cell_type": "code",
   "execution_count": 234,
   "id": "0ae91972",
   "metadata": {},
   "outputs": [
    {
     "name": "stdout",
     "output_type": "stream",
     "text": [
      "eneter a mail'Ok lar... Joking wif u oni...'  1  jaga()\n",
      "['ok', 'lar', 'joke', 'wif', 'u', 'oni', '1', 'jaga']\n",
      "ok lar joke wif u oni 1 jaga\n",
      "['ok lar joke wif u oni 1 jaga']\n",
      "[[864, 459, 487, 969, 237, 513, 992, 426]]\n",
      " \n",
      "1/1 [==============================] - 0s 57ms/step\n",
      "ham mail\n"
     ]
    }
   ],
   "source": [
    "jaga()"
   ]
  },
  {
   "cell_type": "code",
   "execution_count": null,
   "id": "a6bca6ac",
   "metadata": {},
   "outputs": [],
   "source": []
  }
 ],
 "metadata": {
  "kernelspec": {
   "display_name": "Python 3 (ipykernel)",
   "language": "python",
   "name": "python3"
  },
  "language_info": {
   "codemirror_mode": {
    "name": "ipython",
    "version": 3
   },
   "file_extension": ".py",
   "mimetype": "text/x-python",
   "name": "python",
   "nbconvert_exporter": "python",
   "pygments_lexer": "ipython3",
   "version": "3.9.13"
  }
 },
 "nbformat": 4,
 "nbformat_minor": 5
}
